{
 "cells": [
  {
   "cell_type": "markdown",
   "id": "d86ae21d-128d-42f2-b8c7-83b5511a35a2",
   "metadata": {},
   "source": [
    "# Crawling des österreichischen Volleyballteams - Kader Damen\n",
    "\n",
    "## Einführung\n",
    "Im 1. Assignment werden wir Informationen über die Volleyballspielerinnen des österreichischen Nationalteams sammeln. Es existiert eine Liste des Kaders sowie Detailseiten zu jeder Person, in denen die folgenden Daten enthalten sind:\n",
    "- Name\n",
    "- Körpergröße\n",
    "- Dressnummer\n",
    "- Position\n",
    "  \n",
    "Als Ergebnis präsentieren wir ein CSV-File mit den o.g. Datenpunkten und Informationen zu jeder Spielerin des Kaders.\n",
    "\n",
    "Die Umsetzung erfolgt, wie im Assignment vorgegeben, mithilfe der Python-Libraries <i>Selenium</i> und <i>Beautiful Soup 4</i>."
   ]
  },
  {
   "cell_type": "markdown",
   "id": "289a7f04-42a7-4090-acdc-5f4718cbece6",
   "metadata": {},
   "source": [
    "### 1. Installation und Importieren der benötigten Libraries"
   ]
  },
  {
   "cell_type": "code",
   "execution_count": null,
   "id": "57d2f66c-101b-40df-b83d-c1e1fa25d0e6",
   "metadata": {
    "scrolled": true
   },
   "outputs": [],
   "source": [
    "!pip install selenium beautifulsoup4 requests pandas\n"
   ]
  },
  {
   "cell_type": "code",
   "execution_count": null,
   "id": "2787349c-5626-453e-8399-21e4b3111792",
   "metadata": {},
   "outputs": [],
   "source": [
    "from selenium import webdriver\n",
    "from selenium.webdriver.common.action_chains import ActionChains\n",
    "from selenium.webdriver.common.by import By\n",
    "from selenium.webdriver.support.ui import WebDriverWait\n",
    "from selenium.webdriver.support import expected_conditions as EC\n",
    "import time\n",
    "import pandas as pd\n",
    "from bs4 import BeautifulSoup"
   ]
  },
  {
   "cell_type": "markdown",
   "id": "dec4d0e4-f2d7-4fef-83d8-5be92fc84ab0",
   "metadata": {},
   "source": [
    "### 2. Selenium-Crawler auf die Haupt- und Damenkaderseite"
   ]
  },
  {
   "cell_type": "code",
   "execution_count": null,
   "id": "4ac06bcb-cb49-4e7a-af0c-3b1f57b48784",
   "metadata": {},
   "outputs": [],
   "source": [
    "# Chrome im Headless-Modus starten, da sonst Browser-Fenster aufpoppt\n",
    "chrome_options = webdriver.ChromeOptions()\n",
    "chrome_options.add_argument(\"--headless\")\n",
    "\n",
    "# WebDriver starten\n",
    "driver = webdriver.Chrome(options=chrome_options)\n",
    "\n",
    "try:\n",
    "    driver.get(\"https://www.volleynet.at\")\n",
    "    # Warten, bis die Seite vollständig geladen ist und Definieren von explizitem Wait\n",
    "    sleep_long = time.sleep(5)\n",
    "    \n",
    "    sleep_long\n",
    "    wait = WebDriverWait(driver, 10)\n",
    "\n",
    "    # Zuerst das Cookie-Banner schließen\n",
    "    try:\n",
    "        cookie_close_button = wait.until(EC.element_to_be_clickable((By.CSS_SELECTOR, \"div.cmplz-close\")))\n",
    "        cookie_close_button.click()\n",
    "        print(\"✅ Cookie-Banner geschlossen\")\n",
    "    except Exception as e:\n",
    "        print(f\"\\033[91m ❌ Cookie-Banner nicht gefunden oder konnte nicht geschlossen werden: {e}\\033[0m\")\n",
    "\n",
    "    # Warte kurz nach dem Schließen des Cookie-Banners\n",
    "    sleep_short = time.sleep(2)\n",
    "    sleep_short\n",
    "\n",
    "    # Navigiere zum Nationalteams-Menü\n",
    "    try:\n",
    "        nationalteams_menu = wait.until(EC.element_to_be_clickable((By.ID, 'menu-item-4424')))\n",
    "        print(f\"✅ Nationalteams Menü gefunden (\\033[94m{nationalteams_menu.text}\\033[0m)\")\n",
    "        \n",
    "        action = ActionChains(driver)\n",
    "        action.move_to_element(nationalteams_menu).perform()\n",
    "        nationalteams_menu.click()\n",
    "        sleep_short\n",
    "        \n",
    "    except Exception as e:\n",
    "        print(f\"\\033[91m ❌ Fehler beim Navigieren zum Nationalteams-Menü: {e}\\033[0m\")\n",
    "\n",
    "    # Navigiere zum Damenkader-Menü\n",
    "    try:\n",
    "        damen_menu = wait.until(EC.element_to_be_clickable((By.ID, 'menu-item-4434')))\n",
    "        print(f\"✅ Damenkader-Menü gefunden (\\033[94m{damen_menu.text}\\033[0m)\")\n",
    "        sleep_short\n",
    "        \n",
    "    except Exception as e:\n",
    "        print(f\"\\033[91m ❌ Fehler beim Finden des Damenkader-Menüs: {e}\\033[0m\")\n",
    "\n",
    "    # Selenium soll nun den Kader-Link anklicken\n",
    "    try:\n",
    "        kader_link = wait.until(EC.element_to_be_clickable((By.ID, 'menu-item-4471')))\n",
    "        print(f\"✅ Kader-Link gefunden (\\033[94m{kader_link.text}\\033[0m)\")\n",
    "        \n",
    "        action.move_to_element(kader_link).perform()\n",
    "        kader_link.click()\n",
    "\n",
    "        sleep_long\n",
    "        print(f\"✅ Aktuelle URL nach dem Klick: \\033[94m{driver.current_url}\\033[0m\")\n",
    "        \n",
    "    except Exception as e:\n",
    "        print(f\"\\033[91m ❌ Fehler beim Finden oder Klicken auf den Kader-Link: {e}\\033[0m\")\n",
    "\n",
    "except Exception as e:\n",
    "    print(f\"\\033[91m ❌ Ein allgemeiner Fehler ist aufgetreten: {e}\\033[0m\")"
   ]
  },
  {
   "cell_type": "markdown",
   "id": "9dca1c50-fa04-4576-b566-e57b906b845e",
   "metadata": {},
   "source": [
    "### 3. Laden von Spielerinnen-Daten in einen DataFrame (BeautifulSoup4)"
   ]
  },
  {
   "cell_type": "code",
   "execution_count": null,
   "id": "dd4fc383-16f1-482b-9d3c-17b90aea34c9",
   "metadata": {
    "scrolled": true
   },
   "outputs": [],
   "source": [
    "# Der Selenium-Webdriver befindet sich mit driver.current_url auf der Seite \"https://www.volleynet.at/nationalteams/damen/kader/\n",
    "# Dadurch können wir hier direkt mit BeautifulSoup weitermachen und die Daten aus der Tabelle, die auf der Webseite ist, holen\n",
    "\n",
    "\n",
    "try:\n",
    "    # BeautifulSoup für die Hauptseite + Kaderseite\n",
    "    \n",
    "    except Exception as e:\n",
    "        print(f\"Fehler beim Extrahieren der Spielerinnenliste: {e}\")\n",
    "\n",
    "\n",
    "# Ausgabe des DataFrames\n",
    "\n",
    "\n"
   ]
  },
  {
   "cell_type": "markdown",
   "id": "9f86cbe7-f3b4-4d47-b023-64bb816a4ad0",
   "metadata": {},
   "source": [
    "### 4. Crawlen und Datenextraktion auf Detailseite der Spielerinnen"
   ]
  },
  {
   "cell_type": "code",
   "execution_count": null,
   "id": "10e9309e-5031-46ad-9323-4a222f41961a",
   "metadata": {},
   "outputs": [],
   "source": [
    "# Um die Daten später miteinander abgleichen und Veränderungen, Unstimmigkeiten o.ä. zu finden, wird ein zweiter df erstellt\n",
    "df_details = pd.DataFrame(columns=[\"Name\", \"Größe\", \"Dressnummer\", \"Position\"])\n",
    "\n",
    "# Im vorherigen Schritt wurden die URLs zu den Detailseiten in eine separate Spalte des DFs gespeichert\n",
    "# Nun wird mittels For-Schleife die URL entnommen, Daten aus den Detailseiten extrahiert und in einen weiteren DataFrame geladen,\n",
    "# um die Daten aus beiden DFs anschließend miteinander vergleichen zu können\n",
    "\n",
    "for index, player in df_kader_information.iterrows():\n",
    "    try:\n",
    "        # Crawling auf die jeweiligen Detailseiten\n",
    "        driver.get(player['detail_URL'])\n",
    "        sleep_short\n",
    "        \n",
    "        # Ab hier werden Daten mithilfe von BeautifulSoup gemappt und in ein DF geladen\n",
    "       \n",
    "        \n",
    "    except AttributeError as e:\n",
    "        print(f\"❌ Fehler beim Abrufen von Spielerinnen-Informationen auf der Seite {player['detail_URL']}: {e}\")\n",
    "    except Exception as e:\n",
    "        print(f\"❌ Ein unerwarteter Fehler ist aufgetreten bei {player['detail_URL']}: {e}\")\n",
    "        raise\n",
    "\n",
    "\n",
    "# Ausgabe des DataFrames"
   ]
  },
  {
   "cell_type": "markdown",
   "id": "611ccb30-9405-4f69-9544-1ed1f84d078c",
   "metadata": {},
   "source": [
    "### 5. Abgleich der DFs und Bereinigen der Daten"
   ]
  },
  {
   "cell_type": "code",
   "execution_count": null,
   "id": "91f0f76a-7adf-459f-bd22-4b6f07764cc3",
   "metadata": {},
   "outputs": [],
   "source": []
  },
  {
   "cell_type": "code",
   "execution_count": null,
   "id": "04bf6a33-6eb5-45fe-9e26-867247093ba5",
   "metadata": {},
   "outputs": [],
   "source": []
  },
  {
   "cell_type": "code",
   "execution_count": null,
   "id": "cfa6e921-d189-4108-9c6f-4e61cfed64c6",
   "metadata": {},
   "outputs": [],
   "source": [
    "# Schließen des Selenium Browsers am Ende\n",
    "driver.quit()"
   ]
  },
  {
   "cell_type": "markdown",
   "id": "d64e4936-9e65-4c8b-a83a-94e87e117f9f",
   "metadata": {},
   "source": [
    "# Ressourcen & Source-Docs\n",
    "\n",
    "## Selenium\n",
    "1. [WebDriver](https://www.geeksforgeeks.org/selenium-webdriver-commands/)\n",
    "2. [Implizites und explizites Warten](https://www.geeksforgeeks.org/explicit-waits-in-selenium-python/)\n",
    "3. [ActionChains](https://www.geeksforgeeks.org/action-chains-in-selenium-python/)\n",
    "4. [element_to_be_clickable](https://selenium-python.readthedocs.io/api.html#module-selenium.webdriver.support.expected_conditions)\n",
    "5. [move_to_element](https://www.geeksforgeeks.org/move_to_element-method-action-chains-in-selenium-python/?ref=rp)\n",
    "\n",
    "## Beautiful Soup 4\n",
    "1. a\n",
    "2. b\n",
    "\n",
    "## Cleanup Code\n",
    "1. a\n",
    "2. b"
   ]
  },
  {
   "cell_type": "markdown",
   "id": "76a5179d-2fb5-4347-abd2-da813a46e408",
   "metadata": {},
   "source": [
    "# Challenges bei der Implementierung\n",
    "\n",
    "\n",
    "#### Cesar Laura\n",
    "-\n",
    "-\n",
    "\n",
    "\n",
    "#### Dilly Julian\n",
    "-\n",
    "-\n",
    "\n",
    "#### Ecker Annina, Implementierung von Selenium:\n",
    "- Zunächst hatte ich Probleme mit dem WebDriver, da ich nicht die `headless`-Variante kannte. Da ich dann zusätzlich wegen dem Cookie-Banner etwas unsicher war, und ob der WebDriver damit immer gut umgehen würde, habe ich mich auch bei der `headless`-Option dazu entschieden, den Cookie-Banner wegklicken zu lassen.\n",
    "- Die Navigation zu den Menü-Items war grundsätzlich kein Problem, aber es gab einige Eigenschaften bei `element_to_be_clickable` wie das _implicite_ oder _explicite Wait_, wo ich mich einlesen musste."
   ]
  },
  {
   "cell_type": "code",
   "execution_count": null,
   "id": "297bc9bf-2ae9-4a60-878a-68d4c7de6899",
   "metadata": {},
   "outputs": [],
   "source": []
  },
  {
   "cell_type": "code",
   "execution_count": null,
   "id": "45d07b26-9aec-4257-b295-35f1bfa2b5e7",
   "metadata": {},
   "outputs": [],
   "source": []
  }
 ],
 "metadata": {
  "kernelspec": {
   "display_name": "Python 3 (ipykernel)",
   "language": "python",
   "name": "python3"
  },
  "language_info": {
   "codemirror_mode": {
    "name": "ipython",
    "version": 3
   },
   "file_extension": ".py",
   "mimetype": "text/x-python",
   "name": "python",
   "nbconvert_exporter": "python",
   "pygments_lexer": "ipython3",
   "version": "3.12.2"
  }
 },
 "nbformat": 4,
 "nbformat_minor": 5
}
